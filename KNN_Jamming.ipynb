{
  "nbformat": 4,
  "nbformat_minor": 0,
  "metadata": {
    "colab": {
      "provenance": [],
      "include_colab_link": true
    },
    "kernelspec": {
      "name": "python3",
      "display_name": "Python 3"
    },
    "language_info": {
      "name": "python"
    }
  },
  "cells": [
    {
      "cell_type": "markdown",
      "metadata": {
        "id": "view-in-github",
        "colab_type": "text"
      },
      "source": [
        "<a href=\"https://colab.research.google.com/github/mleticiamn/ClassificationProject-Jamming/blob/main/KNN_Jamming.ipynb\" target=\"_parent\"><img src=\"https://colab.research.google.com/assets/colab-badge.svg\" alt=\"Open In Colab\"/></a>"
      ]
    },
    {
      "cell_type": "markdown",
      "source": [
        "## Imports"
      ],
      "metadata": {
        "id": "DvV4DdYai11q"
      }
    },
    {
      "cell_type": "code",
      "execution_count": null,
      "metadata": {
        "id": "V3sWJEXA5QRl"
      },
      "outputs": [],
      "source": [
        "import numpy as np\n",
        "import pandas as pd\n",
        "\n",
        "import matplotlib.pyplot as plt\n",
        "from IPython.display import display\n",
        "import seaborn as sns\n",
        "\n",
        "from sklearn.model_selection import train_test_split\n",
        "from sklearn.model_selection import cross_val_score\n",
        "from sklearn import metrics\n",
        "\n",
        "import time\n",
        "from collections import Counter"
      ]
    },
    {
      "cell_type": "markdown",
      "source": [
        "## KNN Class"
      ],
      "metadata": {
        "id": "6pjQC6q_i7Ac"
      }
    },
    {
      "cell_type": "code",
      "source": [
        "# KNN implementation\n",
        "class KNN:\n",
        "  def __init__(self, k):\n",
        "    self.k = k\n",
        "\n",
        "  # Dados de treinamento\n",
        "  def fit(self, X, y):\n",
        "    self.X_train = X\n",
        "    self.y_train = y\n",
        "\n",
        "  def euclidean(self, x):\n",
        "    return [np.sqrt(np.sum((x - x_train)**2)) for x_train in self.X_train]\n",
        "\n",
        "  # Dado de teste\n",
        "  def predict(self, X):\n",
        "    predictions = [self._predict(x) for x in X]\n",
        "    return np.array(predictions)\n",
        "\n",
        "  def _predict(self, x):\n",
        "    distances =  self.euclidean(x)\n",
        "    sorted_indices = np.argsort(distances) # Returns the >indices< that would sort an array\n",
        "    k_indices = sorted_indices[:self.k]\n",
        "    k_nearest_labels = []\n",
        "    for i in k_indices:\n",
        "      k_nearest_labels.append(self.y_train[i])\n",
        "    most_common = Counter(k_nearest_labels).most_common(1) # Retorna uma lista contendo a tupla (classe, contagem)\n",
        "    return most_common[0][0]\n",
        "\n",
        "  def score(self, X_test, y_test):\n",
        "    y_pred = self.predict(X_test)\n",
        "    accuracy = np.mean(y_pred == y_test)\n",
        "    return accuracy"
      ],
      "metadata": {
        "id": "q5n5I7Ss6cnt"
      },
      "execution_count": null,
      "outputs": []
    },
    {
      "cell_type": "markdown",
      "source": [
        "## Evaluation Metrics Functions"
      ],
      "metadata": {
        "id": "ELXw2vs-i-F2"
      }
    },
    {
      "cell_type": "code",
      "source": [
        "def accuracy(preds, y_test):\n",
        "  return 100 * (preds == y_test).mean()"
      ],
      "metadata": {
        "id": "a93hfvC2HQ1C"
      },
      "execution_count": null,
      "outputs": []
    },
    {
      "cell_type": "code",
      "source": [
        "def confusion_matrix(real, prediction):\n",
        "  confusion_matrix = metrics.confusion_matrix(real, prediction)\n",
        "\n",
        "  cm_display = metrics.ConfusionMatrixDisplay(confusion_matrix=confusion_matrix,\n",
        "                                              display_labels=[\"1\", \"2\", \"3\"])\n",
        "\n",
        "  plt.figure(figsize=(6,6))\n",
        "  cm_display.plot(cmap='gist_earth_r')\n",
        "  plt.ylabel('True label', fontsize=15)\n",
        "  plt.xlabel('Predicted label', fontsize=15)\n",
        "\n",
        "  plt.gca().xaxis.set_tick_params(labelsize=18)\n",
        "  plt.gca().yaxis.set_tick_params(labelsize=18)\n",
        "\n",
        "  for text in cm_display.ax_.texts:\n",
        "      text.set_fontsize(21)\n",
        "\n",
        "  plt.show()\n",
        "\n",
        "  return confusion_matrix"
      ],
      "metadata": {
        "id": "TrKDW3kg3IXn"
      },
      "execution_count": null,
      "outputs": []
    },
    {
      "cell_type": "code",
      "source": [
        "def precision(true_pos, false_pos):\n",
        "  return (np.sum(true_pos / (true_pos + false_pos)) / len(true_pos))*100"
      ],
      "metadata": {
        "id": "Cs3SmQvx-NR4"
      },
      "execution_count": null,
      "outputs": []
    },
    {
      "cell_type": "code",
      "source": [
        "def recall(true_pos, false_neg):\n",
        "  return (np.sum(true_pos / (true_pos + false_neg)) / len(true_pos))*100"
      ],
      "metadata": {
        "id": "ZvK6Y7wZqada"
      },
      "execution_count": null,
      "outputs": []
    },
    {
      "cell_type": "code",
      "source": [
        "def f1_score(precision, recall):\n",
        "  return (2*precision*recall)/(precision+recall)"
      ],
      "metadata": {
        "id": "kTNj-4XK-bUg"
      },
      "execution_count": null,
      "outputs": []
    },
    {
      "cell_type": "markdown",
      "source": [
        "# Dataset 1 non-normalized"
      ],
      "metadata": {
        "id": "9D1IoumRJp31"
      }
    },
    {
      "cell_type": "code",
      "source": [
        "dataset = pd.read_csv('RF_Jamming_Dataset_1.csv')\n",
        "dataset = dataset.rename(columns={'Relative_Speed': 'RS'})\n",
        "dataset = dataset.drop('Speed', axis=1)\n",
        "dataset.head()"
      ],
      "metadata": {
        "colab": {
          "base_uri": "https://localhost:8080/",
          "height": 226
        },
        "id": "aHF09grG7jwf",
        "outputId": "7a324b4d-51b2-41e9-c45b-2398f8649555"
      },
      "execution_count": null,
      "outputs": [
        {
          "output_type": "execute_result",
          "data": {
            "text/plain": [
              "   Time    SNR   RSSI       PDR         RS  Scenario\n",
              "0   0.1  22.35 -48.38  1.000000  25.313981         2\n",
              "1   0.2  21.62 -49.14  0.999999  25.421060         2\n",
              "2   0.3  20.85 -49.92  0.999997  25.327275         2\n",
              "3   0.4  20.07 -50.69  0.999989  25.256933         2\n",
              "4   0.5  19.30 -51.46  0.999958  25.038900         2"
            ],
            "text/html": [
              "\n",
              "  <div id=\"df-807a41bf-2258-49fb-a4f3-6cb0b9a9f090\" class=\"colab-df-container\">\n",
              "    <div>\n",
              "<style scoped>\n",
              "    .dataframe tbody tr th:only-of-type {\n",
              "        vertical-align: middle;\n",
              "    }\n",
              "\n",
              "    .dataframe tbody tr th {\n",
              "        vertical-align: top;\n",
              "    }\n",
              "\n",
              "    .dataframe thead th {\n",
              "        text-align: right;\n",
              "    }\n",
              "</style>\n",
              "<table border=\"1\" class=\"dataframe\">\n",
              "  <thead>\n",
              "    <tr style=\"text-align: right;\">\n",
              "      <th></th>\n",
              "      <th>Time</th>\n",
              "      <th>SNR</th>\n",
              "      <th>RSSI</th>\n",
              "      <th>PDR</th>\n",
              "      <th>RS</th>\n",
              "      <th>Scenario</th>\n",
              "    </tr>\n",
              "  </thead>\n",
              "  <tbody>\n",
              "    <tr>\n",
              "      <th>0</th>\n",
              "      <td>0.1</td>\n",
              "      <td>22.35</td>\n",
              "      <td>-48.38</td>\n",
              "      <td>1.000000</td>\n",
              "      <td>25.313981</td>\n",
              "      <td>2</td>\n",
              "    </tr>\n",
              "    <tr>\n",
              "      <th>1</th>\n",
              "      <td>0.2</td>\n",
              "      <td>21.62</td>\n",
              "      <td>-49.14</td>\n",
              "      <td>0.999999</td>\n",
              "      <td>25.421060</td>\n",
              "      <td>2</td>\n",
              "    </tr>\n",
              "    <tr>\n",
              "      <th>2</th>\n",
              "      <td>0.3</td>\n",
              "      <td>20.85</td>\n",
              "      <td>-49.92</td>\n",
              "      <td>0.999997</td>\n",
              "      <td>25.327275</td>\n",
              "      <td>2</td>\n",
              "    </tr>\n",
              "    <tr>\n",
              "      <th>3</th>\n",
              "      <td>0.4</td>\n",
              "      <td>20.07</td>\n",
              "      <td>-50.69</td>\n",
              "      <td>0.999989</td>\n",
              "      <td>25.256933</td>\n",
              "      <td>2</td>\n",
              "    </tr>\n",
              "    <tr>\n",
              "      <th>4</th>\n",
              "      <td>0.5</td>\n",
              "      <td>19.30</td>\n",
              "      <td>-51.46</td>\n",
              "      <td>0.999958</td>\n",
              "      <td>25.038900</td>\n",
              "      <td>2</td>\n",
              "    </tr>\n",
              "  </tbody>\n",
              "</table>\n",
              "</div>\n",
              "    <div class=\"colab-df-buttons\">\n",
              "\n",
              "  <div class=\"colab-df-container\">\n",
              "    <button class=\"colab-df-convert\" onclick=\"convertToInteractive('df-807a41bf-2258-49fb-a4f3-6cb0b9a9f090')\"\n",
              "            title=\"Convert this dataframe to an interactive table.\"\n",
              "            style=\"display:none;\">\n",
              "\n",
              "  <svg xmlns=\"http://www.w3.org/2000/svg\" height=\"24px\" viewBox=\"0 -960 960 960\">\n",
              "    <path d=\"M120-120v-720h720v720H120Zm60-500h600v-160H180v160Zm220 220h160v-160H400v160Zm0 220h160v-160H400v160ZM180-400h160v-160H180v160Zm440 0h160v-160H620v160ZM180-180h160v-160H180v160Zm440 0h160v-160H620v160Z\"/>\n",
              "  </svg>\n",
              "    </button>\n",
              "\n",
              "  <style>\n",
              "    .colab-df-container {\n",
              "      display:flex;\n",
              "      gap: 12px;\n",
              "    }\n",
              "\n",
              "    .colab-df-convert {\n",
              "      background-color: #E8F0FE;\n",
              "      border: none;\n",
              "      border-radius: 50%;\n",
              "      cursor: pointer;\n",
              "      display: none;\n",
              "      fill: #1967D2;\n",
              "      height: 32px;\n",
              "      padding: 0 0 0 0;\n",
              "      width: 32px;\n",
              "    }\n",
              "\n",
              "    .colab-df-convert:hover {\n",
              "      background-color: #E2EBFA;\n",
              "      box-shadow: 0px 1px 2px rgba(60, 64, 67, 0.3), 0px 1px 3px 1px rgba(60, 64, 67, 0.15);\n",
              "      fill: #174EA6;\n",
              "    }\n",
              "\n",
              "    .colab-df-buttons div {\n",
              "      margin-bottom: 4px;\n",
              "    }\n",
              "\n",
              "    [theme=dark] .colab-df-convert {\n",
              "      background-color: #3B4455;\n",
              "      fill: #D2E3FC;\n",
              "    }\n",
              "\n",
              "    [theme=dark] .colab-df-convert:hover {\n",
              "      background-color: #434B5C;\n",
              "      box-shadow: 0px 1px 3px 1px rgba(0, 0, 0, 0.15);\n",
              "      filter: drop-shadow(0px 1px 2px rgba(0, 0, 0, 0.3));\n",
              "      fill: #FFFFFF;\n",
              "    }\n",
              "  </style>\n",
              "\n",
              "    <script>\n",
              "      const buttonEl =\n",
              "        document.querySelector('#df-807a41bf-2258-49fb-a4f3-6cb0b9a9f090 button.colab-df-convert');\n",
              "      buttonEl.style.display =\n",
              "        google.colab.kernel.accessAllowed ? 'block' : 'none';\n",
              "\n",
              "      async function convertToInteractive(key) {\n",
              "        const element = document.querySelector('#df-807a41bf-2258-49fb-a4f3-6cb0b9a9f090');\n",
              "        const dataTable =\n",
              "          await google.colab.kernel.invokeFunction('convertToInteractive',\n",
              "                                                    [key], {});\n",
              "        if (!dataTable) return;\n",
              "\n",
              "        const docLinkHtml = 'Like what you see? Visit the ' +\n",
              "          '<a target=\"_blank\" href=https://colab.research.google.com/notebooks/data_table.ipynb>data table notebook</a>'\n",
              "          + ' to learn more about interactive tables.';\n",
              "        element.innerHTML = '';\n",
              "        dataTable['output_type'] = 'display_data';\n",
              "        await google.colab.output.renderOutput(dataTable, element);\n",
              "        const docLink = document.createElement('div');\n",
              "        docLink.innerHTML = docLinkHtml;\n",
              "        element.appendChild(docLink);\n",
              "      }\n",
              "    </script>\n",
              "  </div>\n",
              "\n",
              "\n",
              "<div id=\"df-9ec6c46f-a7cc-4565-8587-fe4ac86bbb6b\">\n",
              "  <button class=\"colab-df-quickchart\" onclick=\"quickchart('df-9ec6c46f-a7cc-4565-8587-fe4ac86bbb6b')\"\n",
              "            title=\"Suggest charts\"\n",
              "            style=\"display:none;\">\n",
              "\n",
              "<svg xmlns=\"http://www.w3.org/2000/svg\" height=\"24px\"viewBox=\"0 0 24 24\"\n",
              "     width=\"24px\">\n",
              "    <g>\n",
              "        <path d=\"M19 3H5c-1.1 0-2 .9-2 2v14c0 1.1.9 2 2 2h14c1.1 0 2-.9 2-2V5c0-1.1-.9-2-2-2zM9 17H7v-7h2v7zm4 0h-2V7h2v10zm4 0h-2v-4h2v4z\"/>\n",
              "    </g>\n",
              "</svg>\n",
              "  </button>\n",
              "\n",
              "<style>\n",
              "  .colab-df-quickchart {\n",
              "      --bg-color: #E8F0FE;\n",
              "      --fill-color: #1967D2;\n",
              "      --hover-bg-color: #E2EBFA;\n",
              "      --hover-fill-color: #174EA6;\n",
              "      --disabled-fill-color: #AAA;\n",
              "      --disabled-bg-color: #DDD;\n",
              "  }\n",
              "\n",
              "  [theme=dark] .colab-df-quickchart {\n",
              "      --bg-color: #3B4455;\n",
              "      --fill-color: #D2E3FC;\n",
              "      --hover-bg-color: #434B5C;\n",
              "      --hover-fill-color: #FFFFFF;\n",
              "      --disabled-bg-color: #3B4455;\n",
              "      --disabled-fill-color: #666;\n",
              "  }\n",
              "\n",
              "  .colab-df-quickchart {\n",
              "    background-color: var(--bg-color);\n",
              "    border: none;\n",
              "    border-radius: 50%;\n",
              "    cursor: pointer;\n",
              "    display: none;\n",
              "    fill: var(--fill-color);\n",
              "    height: 32px;\n",
              "    padding: 0;\n",
              "    width: 32px;\n",
              "  }\n",
              "\n",
              "  .colab-df-quickchart:hover {\n",
              "    background-color: var(--hover-bg-color);\n",
              "    box-shadow: 0 1px 2px rgba(60, 64, 67, 0.3), 0 1px 3px 1px rgba(60, 64, 67, 0.15);\n",
              "    fill: var(--button-hover-fill-color);\n",
              "  }\n",
              "\n",
              "  .colab-df-quickchart-complete:disabled,\n",
              "  .colab-df-quickchart-complete:disabled:hover {\n",
              "    background-color: var(--disabled-bg-color);\n",
              "    fill: var(--disabled-fill-color);\n",
              "    box-shadow: none;\n",
              "  }\n",
              "\n",
              "  .colab-df-spinner {\n",
              "    border: 2px solid var(--fill-color);\n",
              "    border-color: transparent;\n",
              "    border-bottom-color: var(--fill-color);\n",
              "    animation:\n",
              "      spin 1s steps(1) infinite;\n",
              "  }\n",
              "\n",
              "  @keyframes spin {\n",
              "    0% {\n",
              "      border-color: transparent;\n",
              "      border-bottom-color: var(--fill-color);\n",
              "      border-left-color: var(--fill-color);\n",
              "    }\n",
              "    20% {\n",
              "      border-color: transparent;\n",
              "      border-left-color: var(--fill-color);\n",
              "      border-top-color: var(--fill-color);\n",
              "    }\n",
              "    30% {\n",
              "      border-color: transparent;\n",
              "      border-left-color: var(--fill-color);\n",
              "      border-top-color: var(--fill-color);\n",
              "      border-right-color: var(--fill-color);\n",
              "    }\n",
              "    40% {\n",
              "      border-color: transparent;\n",
              "      border-right-color: var(--fill-color);\n",
              "      border-top-color: var(--fill-color);\n",
              "    }\n",
              "    60% {\n",
              "      border-color: transparent;\n",
              "      border-right-color: var(--fill-color);\n",
              "    }\n",
              "    80% {\n",
              "      border-color: transparent;\n",
              "      border-right-color: var(--fill-color);\n",
              "      border-bottom-color: var(--fill-color);\n",
              "    }\n",
              "    90% {\n",
              "      border-color: transparent;\n",
              "      border-bottom-color: var(--fill-color);\n",
              "    }\n",
              "  }\n",
              "</style>\n",
              "\n",
              "  <script>\n",
              "    async function quickchart(key) {\n",
              "      const quickchartButtonEl =\n",
              "        document.querySelector('#' + key + ' button');\n",
              "      quickchartButtonEl.disabled = true;  // To prevent multiple clicks.\n",
              "      quickchartButtonEl.classList.add('colab-df-spinner');\n",
              "      try {\n",
              "        const charts = await google.colab.kernel.invokeFunction(\n",
              "            'suggestCharts', [key], {});\n",
              "      } catch (error) {\n",
              "        console.error('Error during call to suggestCharts:', error);\n",
              "      }\n",
              "      quickchartButtonEl.classList.remove('colab-df-spinner');\n",
              "      quickchartButtonEl.classList.add('colab-df-quickchart-complete');\n",
              "    }\n",
              "    (() => {\n",
              "      let quickchartButtonEl =\n",
              "        document.querySelector('#df-9ec6c46f-a7cc-4565-8587-fe4ac86bbb6b button');\n",
              "      quickchartButtonEl.style.display =\n",
              "        google.colab.kernel.accessAllowed ? 'block' : 'none';\n",
              "    })();\n",
              "  </script>\n",
              "</div>\n",
              "    </div>\n",
              "  </div>\n"
            ],
            "application/vnd.google.colaboratory.intrinsic+json": {
              "type": "dataframe",
              "variable_name": "dataset",
              "summary": "{\n  \"name\": \"dataset\",\n  \"rows\": 3000,\n  \"fields\": [\n    {\n      \"column\": \"Time\",\n      \"properties\": {\n        \"dtype\": \"number\",\n        \"std\": 28.87231147870501,\n        \"min\": 0.1,\n        \"max\": 99.9999999999986,\n        \"num_unique_values\": 1000,\n        \"samples\": [\n          52.2000000000005,\n          73.8000000000001,\n          74.1000000000001\n        ],\n        \"semantic_type\": \"\",\n        \"description\": \"\"\n      }\n    },\n    {\n      \"column\": \"SNR\",\n      \"properties\": {\n        \"dtype\": \"number\",\n        \"std\": 12.611665673704184,\n        \"min\": -29.44,\n        \"max\": 22.35,\n        \"num_unique_values\": 930,\n        \"samples\": [\n          -21.51,\n          -16.93,\n          8.56\n        ],\n        \"semantic_type\": \"\",\n        \"description\": \"\"\n      }\n    },\n    {\n      \"column\": \"RSSI\",\n      \"properties\": {\n        \"dtype\": \"number\",\n        \"std\": 2.9257680852245267,\n        \"min\": -69.15,\n        \"max\": -48.38,\n        \"num_unique_values\": 612,\n        \"samples\": [\n          -63.55,\n          -63.12,\n          -62.86\n        ],\n        \"semantic_type\": \"\",\n        \"description\": \"\"\n      }\n    },\n    {\n      \"column\": \"PDR\",\n      \"properties\": {\n        \"dtype\": \"number\",\n        \"std\": 0.302973289501285,\n        \"min\": 1.8099999999999998e-126,\n        \"max\": 0.999999894673147,\n        \"num_unique_values\": 928,\n        \"samples\": [\n          5.18e-103,\n          3.52e-72,\n          0.260852542795947\n        ],\n        \"semantic_type\": \"\",\n        \"description\": \"\"\n      }\n    },\n    {\n      \"column\": \"RS\",\n      \"properties\": {\n        \"dtype\": \"number\",\n        \"std\": 9.763695266181392,\n        \"min\": -0.48880272918879,\n        \"max\": 25.56,\n        \"num_unique_values\": 2063,\n        \"samples\": [\n          13.2563684722911,\n          2.53354299790376,\n          2.47770643931658\n        ],\n        \"semantic_type\": \"\",\n        \"description\": \"\"\n      }\n    },\n    {\n      \"column\": \"Scenario\",\n      \"properties\": {\n        \"dtype\": \"number\",\n        \"std\": 0,\n        \"min\": 1,\n        \"max\": 3,\n        \"num_unique_values\": 3,\n        \"samples\": [\n          2,\n          1,\n          3\n        ],\n        \"semantic_type\": \"\",\n        \"description\": \"\"\n      }\n    }\n  ]\n}"
            }
          },
          "metadata": {},
          "execution_count": 61
        }
      ]
    },
    {
      "cell_type": "code",
      "source": [
        "# Pearson correlation coefficient\n",
        "print('Correlations betweeen Scenario and:')\n",
        "for feature in dataset.columns[1:6]:\n",
        "  correlation = dataset['Scenario'].corr(dataset[feature])\n",
        "  print(f'{feature}: {correlation}')"
      ],
      "metadata": {
        "colab": {
          "base_uri": "https://localhost:8080/"
        },
        "id": "aBPMASzpf4xA",
        "outputId": "6b4e116d-d473-4ade-f159-5f4c30e5c90a"
      },
      "execution_count": null,
      "outputs": [
        {
          "output_type": "stream",
          "name": "stdout",
          "text": [
            "Correlations betweeen Scenario and:\n",
            "SNR: -0.11075826004501302\n",
            "RSSI: -0.27000418937173976\n",
            "PDR: -0.4030059677681682\n",
            "RS: -0.6711845414364626\n",
            "Scenario: 0.9999999999999999\n"
          ]
        }
      ]
    },
    {
      "cell_type": "code",
      "source": [
        "plt.figure(figsize=(12,6))\n",
        "sns.heatmap(dataset.corr(numeric_only=True), annot=True, cmap='Blues')"
      ],
      "metadata": {
        "colab": {
          "base_uri": "https://localhost:8080/",
          "height": 89
        },
        "id": "qkxItitAn99R",
        "outputId": "a11e7a98-894d-430a-f18a-5e6996f14018"
      },
      "execution_count": null,
      "outputs": [
        {
          "output_type": "execute_result",
          "data": {
            "text/plain": [
              "<Axes: >"
            ]
          },
          "metadata": {},
          "execution_count": 63
        },
        {
          "output_type": "display_data",
          "data": {
            "text/plain": [
              "<Figure size 1200x600 with 2 Axes>"
            ],
            "image/png": "[encoded data removed]"
          },
          "metadata": {}
        }
      ]
    },
    {
      "cell_type": "code",
      "source": [
        "# Dividing our dataset into features and targets\n",
        "data_targets = dataset['Scenario']\n",
        "data_features = dataset.drop('Scenario', axis=1)"
      ],
      "metadata": {
        "id": "fNm3C1RB7ynQ"
      },
      "execution_count": null,
      "outputs": []
    },
    {
      "cell_type": "code",
      "source": [
        "# Split data\n",
        "# 70% of our data used for testing\n",
        "X_train, X_test, y_train, y_test = train_test_split(data_features, data_targets, test_size=0.7, random_state=42)"
      ],
      "metadata": {
        "id": "6vza05LF_wgG"
      },
      "execution_count": null,
      "outputs": []
    },
    {
      "cell_type": "code",
      "source": [
        "def elbow_curve_validation(KNN, X_train, y_train, max_k):\n",
        "  k_values = range(1, max_k + 1)\n",
        "  scores = []\n",
        "  times = []\n",
        "\n",
        "  for k in k_values:\n",
        "    start_time = time.time()\n",
        "    classifier = KNN(k)\n",
        "    classifier.fit(X_train.values, y_train.values)\n",
        "    end_time = time.time()\n",
        "    training_time = end_time - start_time\n",
        "    score = classifier.score(X_train.values, y_train.values)\n",
        "    scores.append(score)\n",
        "    times.append(training_time)\n",
        "\n",
        "  plt.figure(figsize=(10, 6))\n",
        "  plt.plot(k_values, scores, marker='o', linestyle='-')\n",
        "  plt.xlabel('Number of Neighbors (k)')\n",
        "  plt.ylabel('Accuracy Score')\n",
        "  plt.xticks(k_values)\n",
        "  plt.grid(True)\n",
        "  plt.show()"
      ],
      "metadata": {
        "id": "sPVW4l1Qz6aj"
      },
      "execution_count": null,
      "outputs": []
    },
    {
      "cell_type": "code",
      "source": [
        "# Apply the KNN\n",
        "classifier = KNN(k=5)\n",
        "classifier.fit(X_train.values, y_train.values)\n",
        "start_time = time.time()\n",
        "preds = classifier.predict(X_test.values)\n",
        "inference_time = (time.time() - start_time)/len(X_test)"
      ],
      "metadata": {
        "id": "t5ut4Q9RIKyy"
      },
      "execution_count": null,
      "outputs": []
    },
    {
      "cell_type": "code",
      "source": [
        "cm = confusion_matrix(y_test.values, preds)"
      ],
      "metadata": {
        "colab": {
          "base_uri": "https://localhost:8080/",
          "height": 159
        },
        "id": "KldiMlPB2Eid",
        "outputId": "4844880a-c1b8-4f75-db42-c0165ccb9484"
      },
      "execution_count": null,
      "outputs": [
        {
          "output_type": "display_data",
          "data": {
            "text/plain": [
              "<Figure size 600x600 with 0 Axes>"
            ]
          },
          "metadata": {}
        },
        {
          "output_type": "display_data",
          "data": {
            "text/plain": [
              "<Figure size 640x480 with 2 Axes>"
            ],
            "image/png": "[encoded data removed]"
          },
          "metadata": {}
        }
      ]
    },
    {
      "cell_type": "code",
      "source": [
        "true_pos = np.diag(cm)\n",
        "false_pos = np.sum(cm, axis=0) - true_pos\n",
        "false_neg = np.sum(cm, axis=1) - true_pos"
      ],
      "metadata": {
        "id": "wjep4Y2I9ZAj"
      },
      "execution_count": null,
      "outputs": []
    },
    {
      "cell_type": "code",
      "source": [
        "print(f'Tempo de inferência do KNN manual: {inference_time}')"
      ],
      "metadata": {
        "colab": {
          "base_uri": "https://localhost:8080/"
        },
        "id": "9CnKibIGF96A",
        "outputId": "3de2b83c-d56b-4e52-9300-57e8f082ec02"
      },
      "execution_count": null,
      "outputs": [
        {
          "output_type": "stream",
          "name": "stdout",
          "text": [
            "Tempo de inferência do KNN manual: 0.006721633615947905\n"
          ]
        }
      ]
    },
    {
      "cell_type": "code",
      "source": [
        "from sklearn.neighbors import KNeighborsClassifier\n",
        "\n",
        "classifier2 = KNeighborsClassifier(5)\n",
        "classifier2.fit(X_train.values, y_train.values)\n",
        "start_time2 = time.time()\n",
        "preds2 = classifier2.predict(X_test.values)\n",
        "inference_time2 = (time.time() - start_time2)/len(X_test)\n",
        "print(f'Tempo de inferência do KNN importado: {inference_time2}')\n"
      ],
      "metadata": {
        "colab": {
          "base_uri": "https://localhost:8080/"
        },
        "id": "mi_IPy8xzid3",
        "outputId": "7ac626b8-f263-4d6e-bff4-46fc091a7bde"
      },
      "execution_count": null,
      "outputs": [
        {
          "output_type": "stream",
          "name": "stdout",
          "text": [
            "Tempo de inferência do KNN importado: 6.32710683913458e-05\n"
          ]
        }
      ]
    },
    {
      "cell_type": "code",
      "source": [
        "print('KNN manual')\n",
        "print(f'Accuracy: {accuracy(preds, y_test.values)}%')\n",
        "precision_scr = precision(true_pos, false_pos)\n",
        "print(f'Precision: {precision_scr}%')\n",
        "recall_scr = recall(true_pos, false_neg)\n",
        "print(f'Recall: {recall_scr}%')\n",
        "print(f'F1-Score: {f1_score(precision_scr,recall_scr)}')"
      ],
      "metadata": {
        "colab": {
          "base_uri": "https://localhost:8080/"
        },
        "id": "Tjz1HVg6-EMr",
        "outputId": "70e7530a-c959-4ef3-90b6-9f0fb26623d8"
      },
      "execution_count": null,
      "outputs": [
        {
          "output_type": "stream",
          "name": "stdout",
          "text": [
            "KNN manual\n",
            "Accuracy: 93.38095238095238%\n",
            "Precision: 93.3963204177604%\n",
            "Recall: 93.39150184585509%\n",
            "F1-Score: 93.3939110696553\n"
          ]
        }
      ]
    },
    {
      "cell_type": "code",
      "source": [
        "from sklearn.model_selection import cross_val_score\n",
        "scores = cross_val_score(classifier2, data_features, data_targets, cv=5)\n",
        "print(\"Average cross-validation score:\", scores.mean())"
      ],
      "metadata": {
        "colab": {
          "base_uri": "https://localhost:8080/"
        },
        "id": "jqYgvejDEt69",
        "outputId": "e52b73de-7a8d-4382-b2af-af5ffb87aac7"
      },
      "execution_count": null,
      "outputs": [
        {
          "output_type": "stream",
          "name": "stdout",
          "text": [
            "Average cross-validation score: 0.7873333333333333\n"
          ]
        }
      ]
    },
    {
      "cell_type": "code",
      "source": [
        "n_iterations = 30\n",
        "inference_times = []\n",
        "\n",
        "for _ in range(n_iterations):\n",
        "    start_time = time.time()\n",
        "    preds = classifier2.predict(X_test.values)\n",
        "    inference_time = time.time() - start_time\n",
        "    inference_times.append(inference_time/len(X_test))\n",
        "\n",
        "average_inference_time = np.mean(inference_times)\n",
        "\n",
        "print(f\"Tempo médio de inferência por previsão: {average_inference_time} segundos\")"
      ],
      "metadata": {
        "colab": {
          "base_uri": "https://localhost:8080/"
        },
        "id": "IUIkHLd49msi",
        "outputId": "3799ad5b-b3a3-438c-f30a-224370a30e08"
      },
      "execution_count": null,
      "outputs": [
        {
          "output_type": "stream",
          "name": "stdout",
          "text": [
            "Tempo médio de inferência por previsão: 6.0495505257258344e-05 segundos\n"
          ]
        }
      ]
    },
    {
      "cell_type": "markdown",
      "source": [
        "# Feature Importance"
      ],
      "metadata": {
        "id": "R16c7WkAUEy3"
      }
    },
    {
      "cell_type": "code",
      "source": [
        "# data = {'Time':[0], 'SNR':[0], 'Speed':[0], 'RSSI':[0], 'PDR':[0], 'RS':[0]}\n",
        "# feat_imp = pd.DataFrame(data)\n",
        "# feat_imp"
      ],
      "metadata": {
        "id": "ybHDc0w1U6QG"
      },
      "execution_count": null,
      "outputs": []
    },
    {
      "cell_type": "code",
      "source": [
        "# X_test.head()"
      ],
      "metadata": {
        "id": "DNXQN8B1YCQC"
      },
      "execution_count": null,
      "outputs": []
    },
    {
      "cell_type": "code",
      "source": [
        "# valid_time = X_test.copy()\n",
        "# valid_time['Time'] = np.random.permutation(valid_time['Time'])\n",
        "# valid_time.head()"
      ],
      "metadata": {
        "id": "RtimcKE3Yj_-"
      },
      "execution_count": null,
      "outputs": []
    },
    {
      "cell_type": "code",
      "source": [
        "# preds_disposable = classifier2.predict(valid_time.values)\n",
        "# acc_time = accuracy(preds_disposable, y_test)\n",
        "# feat_imp['Time'] = acc_time\n",
        "# print(acc_time)"
      ],
      "metadata": {
        "id": "A4AknWnfZYPM"
      },
      "execution_count": null,
      "outputs": []
    },
    {
      "cell_type": "code",
      "source": [
        "# valid_snr = X_test.copy()\n",
        "# valid_snr['SNR'] = np.random.permutation(valid_snr['SNR'])\n",
        "# valid_snr.head()"
      ],
      "metadata": {
        "id": "im-zTkEMl9Bd"
      },
      "execution_count": null,
      "outputs": []
    },
    {
      "cell_type": "code",
      "source": [
        "# preds_disposable = classifier2.predict(valid_snr.values)\n",
        "# acc_snr = accuracy(preds_disposable, y_test)\n",
        "# feat_imp['SNR'] = acc_snr\n",
        "# print(acc_snr)"
      ],
      "metadata": {
        "id": "_MCwXX7Hl9Bf"
      },
      "execution_count": null,
      "outputs": []
    },
    {
      "cell_type": "code",
      "source": [
        "# valid_speed = X_test.copy()\n",
        "# valid_speed['Speed'] = np.random.permutation(valid_speed['Speed'])\n",
        "# valid_speed.head()"
      ],
      "metadata": {
        "id": "57U5SGCYmSXz"
      },
      "execution_count": null,
      "outputs": []
    },
    {
      "cell_type": "code",
      "source": [
        "# preds_disposable = classifier2.predict(valid_speed.values)\n",
        "# acc_speed = accuracy(preds_disposable, y_test)\n",
        "# feat_imp['Speed'] = acc_speed\n",
        "# print(acc_speed)"
      ],
      "metadata": {
        "id": "_5-AeTS2mSX4"
      },
      "execution_count": null,
      "outputs": []
    },
    {
      "cell_type": "code",
      "source": [
        "# valid_rssi = X_test.copy()\n",
        "# valid_rssi['RSSI'] = np.random.permutation(valid_rssi['RSSI'])\n",
        "# valid_rssi.head()"
      ],
      "metadata": {
        "id": "JRJiCUTSmqLJ"
      },
      "execution_count": null,
      "outputs": []
    },
    {
      "cell_type": "code",
      "source": [
        "# preds_disposable = classifier2.predict(valid_rssi.values)\n",
        "# acc_rssi = accuracy(preds_disposable, y_test)\n",
        "# feat_imp['RSSI'] = acc_rssi\n",
        "# print(acc_rssi)"
      ],
      "metadata": {
        "id": "ExouJInEmqLL"
      },
      "execution_count": null,
      "outputs": []
    },
    {
      "cell_type": "code",
      "source": [
        "# valid_pdr = X_test.copy()\n",
        "# valid_pdr['PDR'] = np.random.permutation(valid_pdr['PDR'])\n",
        "# valid_pdr.head()"
      ],
      "metadata": {
        "id": "jAP9SuOEnD1r"
      },
      "execution_count": null,
      "outputs": []
    },
    {
      "cell_type": "code",
      "source": [
        "# preds_disposable = classifier2.predict(valid_pdr.values)\n",
        "# acc_pdr = accuracy(preds_disposable, y_test)\n",
        "# feat_imp['PDR'] = acc_pdr\n",
        "# print(acc_pdr)"
      ],
      "metadata": {
        "id": "SnKoXqh-nD1u"
      },
      "execution_count": null,
      "outputs": []
    },
    {
      "cell_type": "code",
      "source": [
        "# valid_rs = X_test.copy()\n",
        "# valid_rs['RS'] = np.random.permutation(valid_rs['RS'])\n",
        "# valid_rs.head()"
      ],
      "metadata": {
        "id": "-82qF1LArVTd"
      },
      "execution_count": null,
      "outputs": []
    },
    {
      "cell_type": "code",
      "source": [
        "# preds_disposable = classifier2.predict(valid_rs.values)\n",
        "# acc_rs = accuracy(preds_disposable, y_test)\n",
        "# feat_imp['RS'] = acc_rs\n",
        "# print(acc_rs)"
      ],
      "metadata": {
        "id": "CmMZzHOUrVTg"
      },
      "execution_count": null,
      "outputs": []
    },
    {
      "cell_type": "code",
      "source": [
        "# feat_imp"
      ],
      "metadata": {
        "id": "i4RjHYyU2qfN"
      },
      "execution_count": null,
      "outputs": []
    },
    {
      "cell_type": "markdown",
      "source": [
        "# Dataset 1 normalized"
      ],
      "metadata": {
        "id": "n0ah5p1AWgo8"
      }
    },
    {
      "cell_type": "code",
      "source": [
        "from sklearn.preprocessing import StandardScaler\n",
        "\n",
        "# Inicializar o scaler\n",
        "scaler = StandardScaler()\n",
        "\n",
        "# Normalizar os dados de treinamento e teste\n",
        "X_train_normalized = scaler.fit_transform(X_train)\n",
        "X_test_normalized = scaler.transform(X_test)"
      ],
      "metadata": {
        "id": "p8Y4dvF-XlHS"
      },
      "execution_count": null,
      "outputs": []
    },
    {
      "cell_type": "code",
      "source": [
        "# Aplicar o KNN aos dados normalizados\n",
        "classifier_normalized = KNN(k=3)\n",
        "classifier_normalized.fit(X_train_normalized, y_train.values)"
      ],
      "metadata": {
        "id": "0MEn4ATlcM21"
      },
      "execution_count": null,
      "outputs": []
    },
    {
      "cell_type": "code",
      "source": [
        "# Realizar a predição nos dados de teste normalizados\n",
        "inference_start_time = time.time()\n",
        "preds_normalized = classifier_normalized.predict(X_test_normalized)\n",
        "inference_time_normalized = (time.time() - inference_start_time)"
      ],
      "metadata": {
        "id": "SqvQ07wOcJcA"
      },
      "execution_count": null,
      "outputs": []
    },
    {
      "cell_type": "code",
      "source": [
        "# Avaliar o modelo nos dados de teste normalizados\n",
        "accuracy_normalized = accuracy(preds_normalized, y_test.values)\n",
        "cm_normalized = confusion_matrix(y_test.values, preds_normalized)\n",
        "true_pos_normalized = np.diag(cm_normalized)\n",
        "false_pos_normalized = np.sum(cm_normalized, axis=0) - true_pos_normalized\n",
        "false_neg_normalized = np.sum(cm_normalized, axis=1) - true_pos_normalized\n",
        "\n",
        "# Exibir os resultados\n",
        "print(f'Accuracy com dados normalizados: {accuracy_normalized}%')\n",
        "print(f'Tempo de inferência com dados normalizados: {inference_time_normalized}')\n",
        "print(f'Precision com dados normalizados: {precision(true_pos_normalized, false_pos_normalized)}')\n",
        "print(f'Recall com dados normalizados: {recall(true_pos_normalized, false_neg_normalized)}')\n",
        "print(f'F1-Score com dados normalizados: {f1_score(precision(true_pos_normalized, false_pos_normalized), recall(true_pos_normalized, false_neg_normalized))}')"
      ],
      "metadata": {
        "colab": {
          "base_uri": "https://localhost:8080/",
          "height": 569
        },
        "id": "1eB4wqiRcA5w",
        "outputId": "71035cc1-b619-49c5-dc28-2ea4e631b1fe"
      },
      "execution_count": null,
      "outputs": [
        {
          "output_type": "display_data",
          "data": {
            "text/plain": [
              "<Figure size 600x600 with 0 Axes>"
            ]
          },
          "metadata": {}
        },
        {
          "output_type": "display_data",
          "data": {
            "text/plain": [
              "<Figure size 640x480 with 2 Axes>"
            ],
            "image/png": "[encoded data removed]"
          },
          "metadata": {}
        },
        {
          "output_type": "stream",
          "name": "stdout",
          "text": [
            "Accuracy com dados normalizados: 93.33333333333333%\n",
            "Tempo de inferência com dados normalizados: 12.824964761734009\n",
            "Precision com dados normalizados: 93.32896640135796\n",
            "Recall com dados normalizados: 93.34347462747373\n",
            "F1-Score com dados normalizados: 93.33621995062447\n"
          ]
        }
      ]
    },
    {
      "cell_type": "code",
      "source": [
        "# Just so we can get the inference time with the sklearn classifier\n",
        "from sklearn.neighbors import KNeighborsClassifier\n",
        "\n",
        "inference_start_time = time.time()\n",
        "classifier2 = KNeighborsClassifier(3)\n",
        "classifier2.fit(X_train_normalized, y_train.values)\n",
        "preds2 = classifier2.predict(X_test_normalized)\n",
        "inference_time = (time.time() - inference_start_time)\n",
        "print(f'Tempo de inferência do KNN importado: {inference_time}')"
      ],
      "metadata": {
        "colab": {
          "base_uri": "https://localhost:8080/"
        },
        "id": "jcjDUrAwcZho",
        "outputId": "bf980fd1-03c7-44a2-fd0e-020f426f7f71"
      },
      "execution_count": null,
      "outputs": [
        {
          "output_type": "stream",
          "name": "stdout",
          "text": [
            "Tempo de inferência do KNN importado: 0.09578514099121094\n"
          ]
        }
      ]
    }
  ]
}